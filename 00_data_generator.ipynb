{
 "cells": [
  {
   "cell_type": "code",
   "execution_count": 0,
   "metadata": {
    "application/vnd.databricks.v1+cell": {
     "cellMetadata": {
      "byteLimit": 2048000,
      "rowLimit": 10000
     },
     "inputWidgets": {},
     "nuid": "12e2bacf-2090-4443-a457-fcca93b7d312",
     "showTitle": false,
     "tableResultSettingsMap": {},
     "title": ""
    }
   },
   "outputs": [],
   "source": [
    "# Generic stream generator\n",
    "import time, random\n",
    "from datetime import datetime, timezone, timedelta\n",
    "\n",
    "def generate_stream(\n",
    "    path: str,\n",
    "    column_name: str,\n",
    "    low: float,\n",
    "    high: float,\n",
    "    device_count: int,\n",
    "    batch_interval_s: int,\n",
    "    latency_max_s: int,\n",
    "\n",
    "):\n",
    "    \"\"\"\n",
    "    Generic IoT stream generator:\n",
    "      - Emits `device_count` rows each `batch_interval_s` seconds.\n",
    "      - Each row has:\n",
    "          device_id:    1..device_count\n",
    "          event_time:   now - random(0..latency_max_s) seconds\n",
    "          <column_name>: random between [low, high]\n",
    "      - Appends into a Delta path or Delta table.\n",
    "    \"\"\"\n",
    "\n",
    "    while True:\n",
    "        now = datetime.now(timezone.utc)\n",
    "        data = []\n",
    "        for device_id in range(1, device_count + 1):\n",
    "            ts = now - timedelta(seconds=random.uniform(0, latency_max_s))\n",
    "            value = round(random.uniform(low, high), 4)\n",
    "            # build a plain dict so we can infer a schema\n",
    "            data.append({\n",
    "                \"device_id\":   device_id,\n",
    "                \"event_time\":  ts,\n",
    "                column_name:   value\n",
    "            })\n",
    "\n",
    "        df = spark.createDataFrame(data)\n",
    "\n",
    "        df.write.format(\"delta\").mode(\"append\").save(path)\n",
    "\n",
    "        time.sleep(batch_interval_s)"
   ]
  },
  {
   "cell_type": "code",
   "execution_count": 0,
   "metadata": {
    "application/vnd.databricks.v1+cell": {
     "cellMetadata": {
      "byteLimit": 2048000,
      "rowLimit": 10000
     },
     "inputWidgets": {},
     "nuid": "37a51d11-b1cc-4755-8281-c2aaed2b2fdf",
     "showTitle": false,
     "tableResultSettingsMap": {},
     "title": ""
    }
   },
   "outputs": [],
   "source": [
    "# Launch all three generators concurrently without a wrapper\n",
    "\n",
    "from concurrent.futures import ThreadPoolExecutor\n",
    "\n",
    "# Assume generate_stream is already defined above\n",
    "\n",
    "# Common settings\n",
    "device_count     = 5\n",
    "batch_interval_s = 60\n",
    "latency_max_s    = 60\n",
    "\n",
    "# (path, column_name, low, high)\n",
    "streams = [\n",
    "    (\"/Volumes/bridge_monitoring/00_landing/streaming/bridge_temperature\",  \"temperature\",  19,  23),\n",
    "    (\"/Volumes/bridge_monitoring/00_landing/streaming/bridge_vibration\",    \"vibration\",    0.005, 0.05),\n",
    "    (\"/Volumes/bridge_monitoring/00_landing/streaming/bridge_tilt\",         \"tilt_angle\",   -0.005, 0.005)\n",
    "]\n",
    "\n",
    "# Start each infinite generator in its own thread\n",
    "with ThreadPoolExecutor(max_workers=len(streams)) as executor:\n",
    "    for path, column_name, low, high in streams:\n",
    "        executor.submit(\n",
    "            generate_stream,\n",
    "            path,\n",
    "            column_name,\n",
    "            low,\n",
    "            high,\n",
    "            device_count,\n",
    "            batch_interval_s,\n",
    "            latency_max_s\n",
    "        )\n",
    "    # Context manager will call shutdown(wait=True) here,\n",
    "    executor.shutdown(wait=True)\n",
    "    # and block forever because these tasks never return."
   ]
  },
  {
   "cell_type": "code",
   "execution_count": 0,
   "metadata": {
    "application/vnd.databricks.v1+cell": {
     "cellMetadata": {},
     "inputWidgets": {},
     "nuid": "41e0c7b0-3efa-4fd8-ba36-4ba49447b167",
     "showTitle": false,
     "tableResultSettingsMap": {},
     "title": ""
    }
   },
   "outputs": [],
   "source": [
    "'''\n",
    "generate_stream(\n",
    "                \"/Volumes/bridge_monitoring/00_landing/streaming/bridge_temperature\", \n",
    "                'temperature', \n",
    "                0, \n",
    "                20, \n",
    "                5, \n",
    "                60, \n",
    "                60\n",
    "                )\n",
    "\n",
    "generate_stream(\n",
    "                \"/Volumes/bridge_monitoring/00_landing/streaming/bridge_tilt\", \n",
    "                'tilt', \n",
    "                0.005, \n",
    "                0.05, \n",
    "                5, \n",
    "                60, \n",
    "                60\n",
    "                )\n",
    "\n",
    "generate_stream(\n",
    "                \"/Volumes/bridge_monitoring/00_landing/streaming/bridge_vibration\", \n",
    "                'vibration', \n",
    "                -0.005, \n",
    "                0.005, \n",
    "                5, \n",
    "                60, \n",
    "                60\n",
    "                )\n",
    "'''"
   ]
  }
 ],
 "metadata": {
  "application/vnd.databricks.v1+notebook": {
   "computePreferences": null,
   "dashboards": [],
   "environmentMetadata": {
    "base_environment": "",
    "environment_version": "2"
   },
   "inputWidgetPreferences": null,
   "language": "python",
   "notebookMetadata": {
    "pythonIndentUnit": 4
   },
   "notebookName": "00_data_generator",
   "widgets": {}
  },
  "language_info": {
   "name": "python"
  }
 },
 "nbformat": 4,
 "nbformat_minor": 0
}
